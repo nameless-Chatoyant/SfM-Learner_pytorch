{
 "cells": [
  {
   "cell_type": "markdown",
   "metadata": {},
   "source": [
    "# Inverse Warp"
   ]
  },
  {
   "cell_type": "markdown",
   "metadata": {},
   "source": [
    "## 构造坐标矩阵"
   ]
  },
  {
   "cell_type": "code",
   "execution_count": 9,
   "metadata": {
    "scrolled": true
   },
   "outputs": [
    {
     "data": {
      "text/plain": [
       "Variable containing:\n",
       "(0 ,0 ,.,.) = \n",
       "   0   1   2  ...   61  62  63\n",
       "   0   1   2  ...   61  62  63\n",
       "   0   1   2  ...   61  62  63\n",
       "     ...       ⋱       ...    \n",
       "   0   1   2  ...   61  62  63\n",
       "   0   1   2  ...   61  62  63\n",
       "   0   1   2  ...   61  62  63\n",
       "\n",
       "(0 ,1 ,.,.) = \n",
       "   0   0   0  ...    0   0   0\n",
       "   1   1   1  ...    1   1   1\n",
       "   2   2   2  ...    2   2   2\n",
       "     ...       ⋱       ...    \n",
       "  61  61  61  ...   61  61  61\n",
       "  62  62  62  ...   62  62  62\n",
       "  63  63  63  ...   63  63  63\n",
       "\n",
       "(0 ,2 ,.,.) = \n",
       "   1   1   1  ...    1   1   1\n",
       "   1   1   1  ...    1   1   1\n",
       "   1   1   1  ...    1   1   1\n",
       "     ...       ⋱       ...    \n",
       "   1   1   1  ...    1   1   1\n",
       "   1   1   1  ...    1   1   1\n",
       "   1   1   1  ...    1   1   1\n",
       "[torch.FloatTensor of size 1x3x64x64]"
      ]
     },
     "execution_count": 9,
     "metadata": {},
     "output_type": "execute_result"
    }
   ],
   "source": [
    "import torch\n",
    "from torch.autograd import Variable\n",
    "import numpy as np\n",
    "\n",
    "depth = Variable(torch.Tensor(np.ones((8, 64, 64))))\n",
    "b, h, w = depth.size()\n",
    "i_range = Variable(torch.arange(0, h).view(1, h, 1).expand(1,h,w)).type_as(depth)  # [1, H, W]\n",
    "j_range = Variable(torch.arange(0, w).view(1, 1, w).expand(1,h,w)).type_as(depth)  # [1, H, W]\n",
    "ones = Variable(torch.ones(1,h,w)).type_as(depth)\n",
    "\n",
    "pixel_coords = torch.stack((j_range, i_range, ones), dim=1)\n",
    "pixel_coords"
   ]
  },
  {
   "cell_type": "markdown",
   "metadata": {},
   "source": [
    "## Pixel Cam"
   ]
  },
  {
   "cell_type": "markdown",
   "metadata": {},
   "source": [
    "### pixel_to_cam"
   ]
  },
  {
   "cell_type": "code",
   "execution_count": 14,
   "metadata": {},
   "outputs": [],
   "source": [
    "import torch\n",
    "from torch.autograd import Variable\n",
    "import numpy as np\n",
    "\n",
    "intrinsics_inv = Variable(torch.Tensor(np.ones((8, 3, 3))))\n",
    "depth = Variable(torch.Tensor(np.ones((8, 64, 64))))"
   ]
  },
  {
   "cell_type": "code",
   "execution_count": 16,
   "metadata": {},
   "outputs": [
    {
     "data": {
      "text/plain": [
       "Variable containing:\n",
       "(0 ,0 ,.,.) = \n",
       "    1    2    3  ...    62   63   64\n",
       "    2    3    4  ...    63   64   65\n",
       "    3    4    5  ...    64   65   66\n",
       "      ...         ⋱        ...      \n",
       "   62   63   64  ...   123  124  125\n",
       "   63   64   65  ...   124  125  126\n",
       "   64   65   66  ...   125  126  127\n",
       "\n",
       "(0 ,1 ,.,.) = \n",
       "    1    2    3  ...    62   63   64\n",
       "    2    3    4  ...    63   64   65\n",
       "    3    4    5  ...    64   65   66\n",
       "      ...         ⋱        ...      \n",
       "   62   63   64  ...   123  124  125\n",
       "   63   64   65  ...   124  125  126\n",
       "   64   65   66  ...   125  126  127\n",
       "\n",
       "(0 ,2 ,.,.) = \n",
       "    1    2    3  ...    62   63   64\n",
       "    2    3    4  ...    63   64   65\n",
       "    3    4    5  ...    64   65   66\n",
       "      ...         ⋱        ...      \n",
       "   62   63   64  ...   123  124  125\n",
       "   63   64   65  ...   124  125  126\n",
       "   64   65   66  ...   125  126  127\n",
       "     ⋮ \n",
       "\n",
       "(1 ,0 ,.,.) = \n",
       "    1    2    3  ...    62   63   64\n",
       "    2    3    4  ...    63   64   65\n",
       "    3    4    5  ...    64   65   66\n",
       "      ...         ⋱        ...      \n",
       "   62   63   64  ...   123  124  125\n",
       "   63   64   65  ...   124  125  126\n",
       "   64   65   66  ...   125  126  127\n",
       "\n",
       "(1 ,1 ,.,.) = \n",
       "    1    2    3  ...    62   63   64\n",
       "    2    3    4  ...    63   64   65\n",
       "    3    4    5  ...    64   65   66\n",
       "      ...         ⋱        ...      \n",
       "   62   63   64  ...   123  124  125\n",
       "   63   64   65  ...   124  125  126\n",
       "   64   65   66  ...   125  126  127\n",
       "\n",
       "(1 ,2 ,.,.) = \n",
       "    1    2    3  ...    62   63   64\n",
       "    2    3    4  ...    63   64   65\n",
       "    3    4    5  ...    64   65   66\n",
       "      ...         ⋱        ...      \n",
       "   62   63   64  ...   123  124  125\n",
       "   63   64   65  ...   124  125  126\n",
       "   64   65   66  ...   125  126  127\n",
       "     ⋮ \n",
       "\n",
       "(2 ,0 ,.,.) = \n",
       "    1    2    3  ...    62   63   64\n",
       "    2    3    4  ...    63   64   65\n",
       "    3    4    5  ...    64   65   66\n",
       "      ...         ⋱        ...      \n",
       "   62   63   64  ...   123  124  125\n",
       "   63   64   65  ...   124  125  126\n",
       "   64   65   66  ...   125  126  127\n",
       "\n",
       "(2 ,1 ,.,.) = \n",
       "    1    2    3  ...    62   63   64\n",
       "    2    3    4  ...    63   64   65\n",
       "    3    4    5  ...    64   65   66\n",
       "      ...         ⋱        ...      \n",
       "   62   63   64  ...   123  124  125\n",
       "   63   64   65  ...   124  125  126\n",
       "   64   65   66  ...   125  126  127\n",
       "\n",
       "(2 ,2 ,.,.) = \n",
       "    1    2    3  ...    62   63   64\n",
       "    2    3    4  ...    63   64   65\n",
       "    3    4    5  ...    64   65   66\n",
       "      ...         ⋱        ...      \n",
       "   62   63   64  ...   123  124  125\n",
       "   63   64   65  ...   124  125  126\n",
       "   64   65   66  ...   125  126  127\n",
       "...   \n",
       "     ⋮ \n",
       "\n",
       "(5 ,0 ,.,.) = \n",
       "    1    2    3  ...    62   63   64\n",
       "    2    3    4  ...    63   64   65\n",
       "    3    4    5  ...    64   65   66\n",
       "      ...         ⋱        ...      \n",
       "   62   63   64  ...   123  124  125\n",
       "   63   64   65  ...   124  125  126\n",
       "   64   65   66  ...   125  126  127\n",
       "\n",
       "(5 ,1 ,.,.) = \n",
       "    1    2    3  ...    62   63   64\n",
       "    2    3    4  ...    63   64   65\n",
       "    3    4    5  ...    64   65   66\n",
       "      ...         ⋱        ...      \n",
       "   62   63   64  ...   123  124  125\n",
       "   63   64   65  ...   124  125  126\n",
       "   64   65   66  ...   125  126  127\n",
       "\n",
       "(5 ,2 ,.,.) = \n",
       "    1    2    3  ...    62   63   64\n",
       "    2    3    4  ...    63   64   65\n",
       "    3    4    5  ...    64   65   66\n",
       "      ...         ⋱        ...      \n",
       "   62   63   64  ...   123  124  125\n",
       "   63   64   65  ...   124  125  126\n",
       "   64   65   66  ...   125  126  127\n",
       "     ⋮ \n",
       "\n",
       "(6 ,0 ,.,.) = \n",
       "    1    2    3  ...    62   63   64\n",
       "    2    3    4  ...    63   64   65\n",
       "    3    4    5  ...    64   65   66\n",
       "      ...         ⋱        ...      \n",
       "   62   63   64  ...   123  124  125\n",
       "   63   64   65  ...   124  125  126\n",
       "   64   65   66  ...   125  126  127\n",
       "\n",
       "(6 ,1 ,.,.) = \n",
       "    1    2    3  ...    62   63   64\n",
       "    2    3    4  ...    63   64   65\n",
       "    3    4    5  ...    64   65   66\n",
       "      ...         ⋱        ...      \n",
       "   62   63   64  ...   123  124  125\n",
       "   63   64   65  ...   124  125  126\n",
       "   64   65   66  ...   125  126  127\n",
       "\n",
       "(6 ,2 ,.,.) = \n",
       "    1    2    3  ...    62   63   64\n",
       "    2    3    4  ...    63   64   65\n",
       "    3    4    5  ...    64   65   66\n",
       "      ...         ⋱        ...      \n",
       "   62   63   64  ...   123  124  125\n",
       "   63   64   65  ...   124  125  126\n",
       "   64   65   66  ...   125  126  127\n",
       "     ⋮ \n",
       "\n",
       "(7 ,0 ,.,.) = \n",
       "    1    2    3  ...    62   63   64\n",
       "    2    3    4  ...    63   64   65\n",
       "    3    4    5  ...    64   65   66\n",
       "      ...         ⋱        ...      \n",
       "   62   63   64  ...   123  124  125\n",
       "   63   64   65  ...   124  125  126\n",
       "   64   65   66  ...   125  126  127\n",
       "\n",
       "(7 ,1 ,.,.) = \n",
       "    1    2    3  ...    62   63   64\n",
       "    2    3    4  ...    63   64   65\n",
       "    3    4    5  ...    64   65   66\n",
       "      ...         ⋱        ...      \n",
       "   62   63   64  ...   123  124  125\n",
       "   63   64   65  ...   124  125  126\n",
       "   64   65   66  ...   125  126  127\n",
       "\n",
       "(7 ,2 ,.,.) = \n",
       "    1    2    3  ...    62   63   64\n",
       "    2    3    4  ...    63   64   65\n",
       "    3    4    5  ...    64   65   66\n",
       "      ...         ⋱        ...      \n",
       "   62   63   64  ...   123  124  125\n",
       "   63   64   65  ...   124  125  126\n",
       "   64   65   66  ...   125  126  127\n",
       "[torch.FloatTensor of size 8x3x64x64]"
      ]
     },
     "execution_count": 16,
     "metadata": {},
     "output_type": "execute_result"
    }
   ],
   "source": [
    "b, h, w = depth.size()\n",
    "\n",
    "current_pixel_coords = pixel_coords[:,:,:h,:w].expand(b,3,h,w).contiguous().view(b, 3, -1)  # [B, 3, H*W]\n",
    "cam_coords = intrinsics_inv.bmm(current_pixel_coords).view(b, 3, h, w)\n",
    "cam_coords * depth.unsqueeze(1)"
   ]
  },
  {
   "cell_type": "markdown",
   "metadata": {},
   "source": [
    "### cam_to_pixel"
   ]
  },
  {
   "cell_type": "code",
   "execution_count": null,
   "metadata": {},
   "outputs": [],
   "source": [
    "import torch\n",
    "from torch.autograd import Variable\n",
    "import numpy as np\n",
    "\n",
    "cam_coords\n",
    "proj_c2p_rot\n",
    "proj_c2p_tr\n",
    "padding_mode = 'zeros'"
   ]
  },
  {
   "cell_type": "markdown",
   "metadata": {},
   "source": [
    "## 构造旋转矩阵\n",
    "四元数(quaternion)和欧拉坐标(Eluer)是空间运动的两种表示方式"
   ]
  },
  {
   "cell_type": "markdown",
   "metadata": {},
   "source": [
    "### quat_to_mat"
   ]
  },
  {
   "cell_type": "code",
   "execution_count": 17,
   "metadata": {},
   "outputs": [],
   "source": [
    "import torch\n",
    "from torch.autograd import Variable\n",
    "import numpy as np\n",
    "\n",
    "quat = Variable(torch.Tensor(np.ones((8, 3))))"
   ]
  },
  {
   "cell_type": "code",
   "execution_count": 18,
   "metadata": {
    "scrolled": true
   },
   "outputs": [
    {
     "data": {
      "text/plain": [
       "Variable containing:\n",
       "(0 ,.,.) = \n",
       "  0  0  1\n",
       "  1  0  0\n",
       "  0  1  0\n",
       "\n",
       "(1 ,.,.) = \n",
       "  0  0  1\n",
       "  1  0  0\n",
       "  0  1  0\n",
       "\n",
       "(2 ,.,.) = \n",
       "  0  0  1\n",
       "  1  0  0\n",
       "  0  1  0\n",
       "\n",
       "(3 ,.,.) = \n",
       "  0  0  1\n",
       "  1  0  0\n",
       "  0  1  0\n",
       "\n",
       "(4 ,.,.) = \n",
       "  0  0  1\n",
       "  1  0  0\n",
       "  0  1  0\n",
       "\n",
       "(5 ,.,.) = \n",
       "  0  0  1\n",
       "  1  0  0\n",
       "  0  1  0\n",
       "\n",
       "(6 ,.,.) = \n",
       "  0  0  1\n",
       "  1  0  0\n",
       "  0  1  0\n",
       "\n",
       "(7 ,.,.) = \n",
       "  0  0  1\n",
       "  1  0  0\n",
       "  0  1  0\n",
       "[torch.FloatTensor of size 8x3x3]"
      ]
     },
     "execution_count": 18,
     "metadata": {},
     "output_type": "execute_result"
    }
   ],
   "source": [
    "norm_quat = torch.cat([quat[:,:1].detach()*0 + 1, quat], dim=1)\n",
    "norm_quat = norm_quat/norm_quat.norm(p=2, dim=1, keepdim=True)\n",
    "w, x, y, z = norm_quat[:,0], norm_quat[:,1], norm_quat[:,2], norm_quat[:,3]\n",
    "\n",
    "B = quat.size(0)\n",
    "\n",
    "w2, x2, y2, z2 = w.pow(2), x.pow(2), y.pow(2), z.pow(2)\n",
    "wx, wy, wz = w*x, w*y, w*z\n",
    "xy, xz, yz = x*y, x*z, y*z\n",
    "\n",
    "rotMat = torch.stack([w2 + x2 - y2 - z2, 2*xy - 2*wz, 2*wy + 2*xz,\n",
    "                      2*wz + 2*xy, w2 - x2 + y2 - z2, 2*yz - 2*wx,\n",
    "                      2*xz - 2*wy, 2*wx + 2*yz, w2 - x2 - y2 + z2], dim=1).view(B, 3, 3)\n",
    "rotMat"
   ]
  },
  {
   "cell_type": "markdown",
   "metadata": {},
   "source": [
    "### eluer_to_mat"
   ]
  },
  {
   "cell_type": "code",
   "execution_count": 22,
   "metadata": {},
   "outputs": [],
   "source": [
    "import torch\n",
    "from torch.autograd import Variable\n",
    "import numpy as np\n",
    "\n",
    "angle = Variable(torch.Tensor(np.ones((8, 3))))"
   ]
  },
  {
   "cell_type": "code",
   "execution_count": 23,
   "metadata": {
    "scrolled": true
   },
   "outputs": [
    {
     "data": {
      "text/plain": [
       "Variable containing:\n",
       "(0 ,.,.) = \n",
       "  0.2919 -0.4546  0.8415\n",
       "  0.8372 -0.3039 -0.4546\n",
       "  0.4624  0.8372  0.2919\n",
       "\n",
       "(1 ,.,.) = \n",
       "  0.2919 -0.4546  0.8415\n",
       "  0.8372 -0.3039 -0.4546\n",
       "  0.4624  0.8372  0.2919\n",
       "\n",
       "(2 ,.,.) = \n",
       "  0.2919 -0.4546  0.8415\n",
       "  0.8372 -0.3039 -0.4546\n",
       "  0.4624  0.8372  0.2919\n",
       "\n",
       "(3 ,.,.) = \n",
       "  0.2919 -0.4546  0.8415\n",
       "  0.8372 -0.3039 -0.4546\n",
       "  0.4624  0.8372  0.2919\n",
       "\n",
       "(4 ,.,.) = \n",
       "  0.2919 -0.4546  0.8415\n",
       "  0.8372 -0.3039 -0.4546\n",
       "  0.4624  0.8372  0.2919\n",
       "\n",
       "(5 ,.,.) = \n",
       "  0.2919 -0.4546  0.8415\n",
       "  0.8372 -0.3039 -0.4546\n",
       "  0.4624  0.8372  0.2919\n",
       "\n",
       "(6 ,.,.) = \n",
       "  0.2919 -0.4546  0.8415\n",
       "  0.8372 -0.3039 -0.4546\n",
       "  0.4624  0.8372  0.2919\n",
       "\n",
       "(7 ,.,.) = \n",
       "  0.2919 -0.4546  0.8415\n",
       "  0.8372 -0.3039 -0.4546\n",
       "  0.4624  0.8372  0.2919\n",
       "[torch.FloatTensor of size 8x3x3]"
      ]
     },
     "execution_count": 23,
     "metadata": {},
     "output_type": "execute_result"
    }
   ],
   "source": [
    "B = angle.size(0)\n",
    "x, y, z = angle[:,0], angle[:,1], angle[:,2]\n",
    "\n",
    "cosz = torch.cos(z)\n",
    "sinz = torch.sin(z)\n",
    "\n",
    "zeros = z.detach() * 0\n",
    "ones = zeros.detach()+1\n",
    "zmat = torch.stack([cosz, -sinz, zeros,\n",
    "                    sinz,  cosz, zeros,\n",
    "                    zeros, zeros,  ones], dim=1).view(B, 3, 3)\n",
    "\n",
    "cosy = torch.cos(y)\n",
    "siny = torch.sin(y)\n",
    "\n",
    "ymat = torch.stack([cosy, zeros,  siny,\n",
    "                    zeros,  ones, zeros,\n",
    "                    -siny, zeros,  cosy], dim=1).view(B, 3, 3)\n",
    "\n",
    "cosx = torch.cos(x)\n",
    "sinx = torch.sin(x)\n",
    "\n",
    "xmat = torch.stack([ones, zeros, zeros,\n",
    "                    zeros,  cosx, -sinx,\n",
    "                    zeros,  sinx,  cosx], dim=1).view(B, 3, 3)\n",
    "\n",
    "rotMat = xmat.bmm(ymat).bmm(zmat)\n",
    "rotMat"
   ]
  },
  {
   "cell_type": "markdown",
   "metadata": {},
   "source": [
    "## inverse_warp"
   ]
  },
  {
   "cell_type": "code",
   "execution_count": null,
   "metadata": {},
   "outputs": [],
   "source": [
    "img = 0\n",
    "depth = 0\n",
    "pose = 0\n",
    "intrinsics = 0\n",
    "intrinsics_inv = 0\n",
    "rotation_mode = 0\n",
    "padding_mode = 0"
   ]
  }
 ],
 "metadata": {
  "kernelspec": {
   "display_name": "Python 3",
   "language": "python",
   "name": "python3"
  },
  "language_info": {
   "codemirror_mode": {
    "name": "ipython",
    "version": 3
   },
   "file_extension": ".py",
   "mimetype": "text/x-python",
   "name": "python",
   "nbconvert_exporter": "python",
   "pygments_lexer": "ipython3",
   "version": "3.6.3"
  }
 },
 "nbformat": 4,
 "nbformat_minor": 2
}
